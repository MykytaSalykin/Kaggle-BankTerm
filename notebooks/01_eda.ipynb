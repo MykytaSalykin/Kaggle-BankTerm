{
 "cells": [
  {
   "cell_type": "markdown",
   "id": "6d190f36",
   "metadata": {},
   "source": [
    "# 01 • EDA (Bank Term Deposit)"
   ]
  },
  {
   "cell_type": "code",
   "execution_count": null,
   "id": "a89f6f02",
   "metadata": {},
   "outputs": [],
   "source": [
    "from pathlib import Path\n",
    "import pandas as pd\n",
    "import numpy as np\n",
    "\n",
    "PROJ = Path.cwd()\n",
    "DATA = None\n",
    "for p in [PROJ/'data', PROJ.parent/'data', PROJ.parent.parent/'data']:\n",
    "    if (p/'train.csv').exists() and (p/'test.csv').exists():\n",
    "        DATA = p; break\n",
    "assert DATA is not None, 'data/train.csv or data/test.csv not found'\n",
    "\n",
    "train = pd.read_csv(DATA/'train.csv')\n",
    "test  = pd.read_csv(DATA/'test.csv')\n",
    "train.shape, test.shape"
   ]
  },
  {
   "cell_type": "code",
   "execution_count": null,
   "id": "c8484293",
   "metadata": {},
   "outputs": [],
   "source": [
    "train.head(10)"
   ]
  },
  {
   "cell_type": "markdown",
   "id": "31df8194",
   "metadata": {},
   "source": [
    "## Schema & basic stats"
   ]
  },
  {
   "cell_type": "code",
   "execution_count": null,
   "id": "bba5bd82",
   "metadata": {},
   "outputs": [],
   "source": [
    "desc_num = train[['age','balance','day','duration','campaign','pdays','previous','y']].describe()\n",
    "desc_num"
   ]
  },
  {
   "cell_type": "markdown",
   "id": "790bab48",
   "metadata": {},
   "source": [
    "## Target distribution"
   ]
  },
  {
   "cell_type": "code",
   "execution_count": null,
   "id": "9dbba9ce",
   "metadata": {},
   "outputs": [],
   "source": [
    "train['y'].value_counts(normalize=True).rename('ratio')"
   ]
  },
  {
   "cell_type": "markdown",
   "id": "d28defd2",
   "metadata": {},
   "source": [
    "## Categorical levels"
   ]
  },
  {
   "cell_type": "code",
   "execution_count": null,
   "id": "bb77a914",
   "metadata": {},
   "outputs": [],
   "source": [
    "cat_cols = ['job','marital','education','default','housing','loan','contact','month','poutcome']\n",
    "top_levels = {}\n",
    "for c in cat_cols:\n",
    "    top_levels[c] = train[c].value_counts().head(20)\n",
    "top_levels"
   ]
  },
  {
   "cell_type": "markdown",
   "id": "e7665ddc",
   "metadata": {},
   "source": [
    "## Numeric distributions (quick sanity)"
   ]
  },
  {
   "cell_type": "code",
   "execution_count": null,
   "id": "cd4013d2",
   "metadata": {},
   "outputs": [],
   "source": [
    "for c in ['age','balance','day','duration','campaign','pdays','previous']:\n",
    "    s = train[c]\n",
    "    print(c, 'min=', s.min(), 'p1=', s.quantile(0.01), 'p50=', s.quantile(0.5), 'p99=', s.quantile(0.99), 'max=', s.max())"
   ]
  },
  {
   "cell_type": "markdown",
   "id": "7a0f7286",
   "metadata": {},
   "source": [
    "## Target rate by categorical"
   ]
  },
  {
   "cell_type": "code",
   "execution_count": null,
   "id": "2b71bb8a",
   "metadata": {},
   "outputs": [],
   "source": [
    "import pandas as pd\n",
    "rates = {}\n",
    "for c in cat_cols:\n",
    "    g = train.groupby(c)['y'].mean().sort_values(ascending=False)\n",
    "    rates[c] = g\n",
    "rates"
   ]
  },
  {
   "cell_type": "markdown",
   "id": "f987243c",
   "metadata": {},
   "source": [
    "## Target rate by binned numeric"
   ]
  },
  {
   "cell_type": "code",
   "execution_count": null,
   "id": "0f349376",
   "metadata": {},
   "outputs": [],
   "source": [
    "import pandas as pd\n",
    "out = {}\n",
    "bins = {\n",
    "    'age': 10,\n",
    "    'balance': 20,\n",
    "    'duration': 20,\n",
    "    'campaign': 10,\n",
    "    'pdays': 10,\n",
    "    'previous': 10,\n",
    "}\n",
    "for c, nb in bins.items():\n",
    "    bc = pd.qcut(train[c], q=min(nb, train[c].nunique()), duplicates='drop')\n",
    "    out[c] = train.groupby(bc)['y'].mean()\n",
    "out"
   ]
  },
  {
   "cell_type": "markdown",
   "id": "d8f38378",
   "metadata": {},
   "source": [
    "## Simple correlations (numeric only)"
   ]
  },
  {
   "cell_type": "code",
   "execution_count": null,
   "id": "3a15c98c",
   "metadata": {},
   "outputs": [],
   "source": [
    "train[['age','balance','day','duration','campaign','pdays','previous','y']].corr(numeric_only=True)"
   ]
  }
 ],
 "metadata": {},
 "nbformat": 4,
 "nbformat_minor": 5
}
