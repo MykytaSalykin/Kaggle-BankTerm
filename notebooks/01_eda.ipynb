{
 "cells": [
  {
   "cell_type": "markdown",
   "id": "977bef3e",
   "metadata": {},
   "source": [
    "# 01 – EDA (Bank Term Deposit)"
   ]
  },
  {
   "cell_type": "code",
   "execution_count": null,
   "id": "6d11857e",
   "metadata": {},
   "outputs": [],
   "source": [
    "from pathlib import Path\n",
    "import pandas as pd\n",
    "\n",
    "# находим data/\n",
    "PROJ = Path.cwd()\n",
    "DATA = None\n",
    "for p in [PROJ/'data', PROJ.parent/'data', PROJ.parent.parent/'data']:\n",
    "    if (p/'train.csv').exists() and (p/'test.csv').exists():\n",
    "        DATA = p; break\n",
    "assert DATA is not None, 'data/train.csv or data/test.csv not found'\n",
    "\n",
    "train = pd.read_csv(DATA/'train.csv')\n",
    "test  = pd.read_csv(DATA/'test.csv')\n",
    "print('train:', train.shape, 'test:', test.shape)\n",
    "train.head()"
   ]
  },
  {
   "cell_type": "code",
   "execution_count": null,
   "id": "34c13143",
   "metadata": {},
   "outputs": [],
   "source": [
    "# базовая инфа\n",
    "display(train.describe(include='all').T)\n",
    "print('\\nTarget balance:')\n",
    "print(train['y'].value_counts(normalize=True))"
   ]
  },
  {
   "cell_type": "code",
   "execution_count": null,
   "id": "30d25aee",
   "metadata": {},
   "outputs": [],
   "source": [
    "# категориальные value_counts (топ 10)\n",
    "cat_cols = ['job','marital','education','default','housing','loan','contact','month','poutcome']\n",
    "for c in cat_cols:\n",
    "    print(f'\\n=== {c} ===')\n",
    "    display(train[c].value_counts().head(10))"
   ]
  },
  {
   "cell_type": "code",
   "execution_count": null,
   "id": "7b033c8f",
   "metadata": {},
   "outputs": [],
   "source": [
    "# простые корреляции по численным\n",
    "num_cols = ['age','balance','day','duration','campaign','pdays','previous']\n",
    "display(train[num_cols + ['y']].corr(numeric_only=True))"
   ]
  }
 ],
 "metadata": {},
 "nbformat": 4,
 "nbformat_minor": 5
}
